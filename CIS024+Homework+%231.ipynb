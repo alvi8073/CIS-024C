{
 "cells": [
  {
   "cell_type": "code",
   "execution_count": 1,
   "metadata": {},
   "outputs": [
    {
     "name": "stdout",
     "output_type": "stream",
     "text": [
      "5 6\n"
     ]
    }
   ],
   "source": [
    "# Exercise 3.1\n",
    "a = 5\n",
    "b = 6\n",
    "print a, b"
   ]
  },
  {
   "cell_type": "code",
   "execution_count": 2,
   "metadata": {
    "collapsed": true
   },
   "outputs": [],
   "source": [
    "# Exercise 3.2\n",
    "greeting = \"Hello\"\n",
    "person = \"Oscar\""
   ]
  },
  {
   "cell_type": "code",
   "execution_count": 3,
   "metadata": {},
   "outputs": [
    {
     "name": "stdout",
     "output_type": "stream",
     "text": [
      "Hello Oscar\n"
     ]
    }
   ],
   "source": [
    "# Exercise 3.3\n",
    "personalGreeting = greeting + \" \" + person\n",
    "print personalGreeting"
   ]
  },
  {
   "cell_type": "code",
   "execution_count": 4,
   "metadata": {},
   "outputs": [
    {
     "name": "stdout",
     "output_type": "stream",
     "text": [
      "Enter Age:28\n"
     ]
    },
    {
     "data": {
      "text/plain": [
       "'28'"
      ]
     },
     "execution_count": 4,
     "metadata": {},
     "output_type": "execute_result"
    }
   ],
   "source": [
    "# Exercise 3.4\n",
    "raw_input(\"Enter Age:\")"
   ]
  },
  {
   "cell_type": "code",
   "execution_count": 9,
   "metadata": {},
   "outputs": [
    {
     "name": "stdout",
     "output_type": "stream",
     "text": [
      "Enter Age:28\n",
      "Age 28\n"
     ]
    }
   ],
   "source": [
    "# Exercise 3.5\n",
    "age = int(raw_input(\"Enter Age:\"))\n",
    "print \"Age\", age"
   ]
  },
  {
   "cell_type": "code",
   "execution_count": 11,
   "metadata": {},
   "outputs": [
    {
     "data": {
      "text/plain": [
       "False"
      ]
     },
     "execution_count": 11,
     "metadata": {},
     "output_type": "execute_result"
    }
   ],
   "source": [
    "# Exercise 3.6\n",
    "age == 35"
   ]
  },
  {
   "cell_type": "code",
   "execution_count": 12,
   "metadata": {},
   "outputs": [
    {
     "name": "stdout",
     "output_type": "stream",
     "text": [
      "The age is not greater than 35.\n"
     ]
    }
   ],
   "source": [
    "# Exercise 3.7\n",
    "if age > 35:\n",
    "    print \"The age is greater than 35.\"\n",
    "else:\n",
    "    print \"The age is not greater than 35.\""
   ]
  },
  {
   "cell_type": "code",
   "execution_count": 17,
   "metadata": {},
   "outputs": [
    {
     "name": "stdout",
     "output_type": "stream",
     "text": [
      "2\n",
      "2\n",
      "2\n"
     ]
    }
   ],
   "source": [
    "# Exercise 3.8 - Integers\n",
    "number = 10\n",
    "x = number/4\n",
    "print x\n",
    "y = number//4\n",
    "print y\n",
    "z = number%4\n",
    "print z"
   ]
  },
  {
   "cell_type": "code",
   "execution_count": 18,
   "metadata": {},
   "outputs": [
    {
     "name": "stdout",
     "output_type": "stream",
     "text": [
      "25.3375\n",
      "25.0\n",
      "1.35\n"
     ]
    }
   ],
   "source": [
    "# Exercise 3.9 - Floats\n",
    "number2 = 101.35\n",
    "i = number2/4\n",
    "print i\n",
    "j = number2//4\n",
    "print j\n",
    "k = number2%4\n",
    "print k"
   ]
  },
  {
   "cell_type": "code",
   "execution_count": 20,
   "metadata": {},
   "outputs": [
    {
     "name": "stdout",
     "output_type": "stream",
     "text": [
      "False\n",
      "False\n"
     ]
    }
   ],
   "source": [
    "# Exercise 3.10 - Booleans\n",
    "myAge = 21\n",
    "yourAge = 25\n",
    "result = myAge == yourAge\n",
    "print result\n",
    "\n",
    "hisAge = 25\n",
    "result2 = myAge == hisAge\n",
    "print result2"
   ]
  },
  {
   "cell_type": "code",
   "execution_count": null,
   "metadata": {
    "collapsed": true
   },
   "outputs": [],
   "source": []
  }
 ],
 "metadata": {
  "kernelspec": {
   "display_name": "Python 2",
   "language": "python",
   "name": "python2"
  },
  "language_info": {
   "codemirror_mode": {
    "name": "ipython",
    "version": 2
   },
   "file_extension": ".py",
   "mimetype": "text/x-python",
   "name": "python",
   "nbconvert_exporter": "python",
   "pygments_lexer": "ipython2",
   "version": "2.7.14"
  }
 },
 "nbformat": 4,
 "nbformat_minor": 2
}
